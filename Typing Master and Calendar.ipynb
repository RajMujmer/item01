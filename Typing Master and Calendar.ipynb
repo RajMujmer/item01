{
 "cells": [
  {
   "cell_type": "code",
   "execution_count": 2,
   "id": "a6039a4e",
   "metadata": {},
   "outputs": [],
   "source": [
    "from tkinter import *\n",
    "top = Tk()\n",
    "redbutton = Button(top, text = \"Tomato\", fg = \"red\")\n",
    "redbutton.pack(side = LEFT)\n",
    "greenbutton = Button(top, text = \"Mango\", fg = \"green\")\n",
    "greenbutton.pack(side = RIGHT)\n",
    "\n",
    "top.mainloop()"
   ]
  },
  {
   "cell_type": "code",
   "execution_count": 2,
   "id": "778d2b5b",
   "metadata": {},
   "outputs": [],
   "source": [
    "par = Tk()\n",
    "label1 = Label(par, text = \" Your Name : \").grid(row = 0, column = 0)\n",
    "e1 = Entry(par).grid(row = 0, column = 1)\n",
    "label2 = Label(par, text = \" Your ID : \").grid(row = 1, column = 0)\n",
    "e1 = Entry(par).grid(row = 1, column = 1)\n",
    "label3 = Label(par, text = \"Your Age :  \").grid(row = 2, column = 0)\n",
    "e1 = Entry(par).grid(row = 2, column = 1)\n",
    "butto = Button(par, text = \" LOGIN \", fg = 'blue').grid(row = 3, column = 0)\n",
    "par.mainloop()"
   ]
  },
  {
   "cell_type": "code",
   "execution_count": 39,
   "id": "b8dea50e",
   "metadata": {},
   "outputs": [],
   "source": [
    "ex = Tk()\n",
    "ex.geometry(\"300x200\")\n",
    "b = Button(ex, text = \"Simple\")\n",
    "b.pack()\n",
    "ex.mainloop()"
   ]
  },
  {
   "cell_type": "code",
   "execution_count": 41,
   "id": "f020b3c6",
   "metadata": {},
   "outputs": [],
   "source": [
    "watch = Tk()\n",
    "name = Button(watch, text = \"Enter Name  \", bg = 'Yellow')\n",
    "name.pack(side = LEFT)\n",
    "\n",
    "watch.mainloop()"
   ]
  },
  {
   "cell_type": "code",
   "execution_count": null,
   "id": "26e970c6",
   "metadata": {},
   "outputs": [],
   "source": []
  },
  {
   "cell_type": "markdown",
   "id": "fa09ef58",
   "metadata": {},
   "source": [
    "# Typing Test  Master"
   ]
  },
  {
   "cell_type": "code",
   "execution_count": 28,
   "id": "4499bb25",
   "metadata": {},
   "outputs": [
    {
     "name": "stdout",
     "output_type": "stream",
     "text": [
      "Requirement already satisfied: pygame in c:\\users\\hp\\appdata\\local\\programs\\python\\python310\\lib\\site-packages (2.1.2)"
     ]
    },
    {
     "name": "stderr",
     "output_type": "stream",
     "text": [
      "\n",
      "[notice] A new release of pip available: 22.3 -> 22.3.1\n",
      "[notice] To update, run: python.exe -m pip install --upgrade pip\n"
     ]
    },
    {
     "name": "stdout",
     "output_type": "stream",
     "text": [
      "\n"
     ]
    }
   ],
   "source": [
    "!pip install pygame"
   ]
  },
  {
   "cell_type": "code",
   "execution_count": null,
   "id": "5526df3e",
   "metadata": {},
   "outputs": [
    {
     "name": "stdout",
     "output_type": "stream",
     "text": [
      "Type this :  Para actional parts are arranged in each chapter in order of magnitude Fourier Series. This is the first we come\n",
      "    here for the purpose in this section of life '\n",
      "Press Enter when you are ready !!\n"
     ]
    }
   ],
   "source": [
    "from time import time\n",
    "def typingError(prompt):\n",
    "    global iwords\n",
    "    words = prompt.split()\n",
    "    errors = 0\n",
    "    \n",
    "    for i in range(len(iwords)):\n",
    "        if i in (0, len(iwords) - 1):\n",
    "            if iwords[i] == words[i]:\n",
    "                continue\n",
    "            else:\n",
    "                errors += 1\n",
    "        else:\n",
    "            if iwords[i] == words[i]:\n",
    "                if (iwords[i+1] == words[i+1] and (iwords[i-1] == words[i-1])):\n",
    "                    continue\n",
    "                else: \n",
    "                    errors += 1\n",
    "            else:\n",
    "                errors += 1\n",
    "    return errors\n",
    "\n",
    "def typingSpeed(iprompt, stime, etime):\n",
    "    global time\n",
    "    global iwords\n",
    "    \n",
    "    iwords = iprompt.split()\n",
    "    twords = len(iwords)\n",
    "    speed = twords/time\n",
    "    \n",
    "    return speed\n",
    "\n",
    "def timeelapsed(stime, etime):\n",
    "    time = etime - stime\n",
    "    return time\n",
    "\n",
    "if  __name__ == '__main__':\n",
    "    prompt = '''Para actional parts are arranged in each chapter in order of magnitude Fourier Series. This is the first we come\n",
    "    here for the purpose in this section of life'''\n",
    "    print(\"Type this : \", prompt, \"'\")\n",
    "\n",
    "    input(\"Press Enter when you are ready !!\")\n",
    "    stime = time()\n",
    "    iprompt = input()\n",
    "    etime = time()\n",
    "\n",
    "    time = round(timeelapsed(stime, etime), 2)\n",
    "    speed = typingSpeed(iprompt, stime, etime)\n",
    "    errors = typingError(prompt)\n",
    "\n",
    "    print(\"Total time elapsed : \", time, \"s\")\n",
    "    print(\"Your average Typing speed was :  \", speed*60, \" words / minute\")\n",
    "    print(\"With a total of : \", errors, \"errors\")\n",
    "\n",
    "    \n",
    "    \n",
    "        "
   ]
  },
  {
   "cell_type": "code",
   "execution_count": null,
   "id": "e0c7102b",
   "metadata": {},
   "outputs": [],
   "source": []
  },
  {
   "cell_type": "code",
   "execution_count": 3,
   "id": "2932a7ac",
   "metadata": {},
   "outputs": [],
   "source": [
    "import calendar\n",
    "def showCalender():\n",
    "    gui = Tk()\n",
    "    gui.config(background = 'grey')\n",
    "    gui.title(\"Calender for the year \")\n",
    "    gui.geometry(\"600x600\")\n",
    "    year = int(year_field.get())\n",
    "    gui_content = calendar.calendar(year)\n",
    "    calYear = Label(gui, text = gui_content, font = \"Consolas 14 bold\")\n",
    "    calYear.grid(row = 5, column = 1, padx = 20)\n",
    "    gui.mainloop()\n",
    "\n",
    "if __name__ == '__main__':\n",
    "    new = Tk()\n",
    "    new.config(background = 'Yellow')\n",
    "    new.title(\"Calender\")\n",
    "    new. geometry(\"300x300\")\n",
    "    cal = Label(new, text = \" Calender\", bg = 'white', font = ('Baskervilley', 28,\"bold\"))\n",
    "    year = Label(new, text = \" !!!  Enter Year  !!!\", bg = 'dark grey', font = ('Baskervilley', 18, \"bold\"))\n",
    "    year_field = Entry(new)\n",
    "    button = Button(new, text = \" Show Calendar\",  fg = 'Yellow', bg = 'green', command = showCalender)\n",
    "     \n",
    "    cal.grid(row = 1, column = 1)\n",
    "    year.grid(row = 2, column = 1)\n",
    "    year_field.grid(row = 3, column = 1)\n",
    "    button.grid(row = 4, column = 1)\n",
    "    #Exit.grid(row = 6, column = 1)\n",
    "    new.mainloop()\n",
    "    \n",
    "    \n",
    "    \n",
    "    "
   ]
  },
  {
   "cell_type": "code",
   "execution_count": null,
   "id": "0c686ba6",
   "metadata": {},
   "outputs": [],
   "source": []
  },
  {
   "cell_type": "code",
   "execution_count": null,
   "id": "506a07b9",
   "metadata": {},
   "outputs": [],
   "source": []
  },
  {
   "cell_type": "code",
   "execution_count": null,
   "id": "a83eb55c",
   "metadata": {},
   "outputs": [],
   "source": []
  }
 ],
 "metadata": {
  "kernelspec": {
   "display_name": "Python 3 (ipykernel)",
   "language": "python",
   "name": "python3"
  },
  "language_info": {
   "codemirror_mode": {
    "name": "ipython",
    "version": 3
   },
   "file_extension": ".py",
   "mimetype": "text/x-python",
   "name": "python",
   "nbconvert_exporter": "python",
   "pygments_lexer": "ipython3",
   "version": "3.9.7"
  }
 },
 "nbformat": 4,
 "nbformat_minor": 5
}
